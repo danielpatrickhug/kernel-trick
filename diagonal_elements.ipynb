{
  "nbformat": 4,
  "nbformat_minor": 0,
  "metadata": {
    "colab": {
      "provenance": [],
      "authorship_tag": "ABX9TyP2vD8mSZgKRJyL/LJTTZ5f",
      "include_colab_link": true
    },
    "kernelspec": {
      "name": "python3",
      "display_name": "Python 3"
    },
    "language_info": {
      "name": "python"
    }
  },
  "cells": [
    {
      "cell_type": "markdown",
      "metadata": {
        "id": "view-in-github",
        "colab_type": "text"
      },
      "source": [
        "<a href=\"https://colab.research.google.com/github/danielpatrickhug/kernel-trick/blob/main/diagonal_elements.ipynb\" target=\"_parent\"><img src=\"https://colab.research.google.com/assets/colab-badge.svg\" alt=\"Open In Colab\"/></a>"
      ]
    },
    {
      "cell_type": "code",
      "execution_count": 54,
      "metadata": {
        "id": "cOMLH6zh5Fi5"
      },
      "outputs": [],
      "source": [
        "import numpy as np\n",
        "# Usage\n",
        "m = 5\n",
        "n = 3\n",
        "embedding_matrix = np.random.lognormal(size=(m, n))"
      ]
    },
    {
      "cell_type": "code",
      "source": [
        "def check_symmetry(kernel_matrix):\n",
        "    # Check if the input matrix is square\n",
        "    if kernel_matrix.shape[0] != kernel_matrix.shape[1]:\n",
        "        raise ValueError(\"The input kernel matrix must be square.\")\n",
        "\n",
        "    # Check if the difference between the matrix and its transpose is close to zero\n",
        "    is_symmetric = np.allclose(kernel_matrix, kernel_matrix.T, atol=1e-8)\n",
        "\n",
        "    return is_symmetric\n"
      ],
      "metadata": {
        "id": "oBBRkmJj5H3t"
      },
      "execution_count": 55,
      "outputs": []
    },
    {
      "cell_type": "code",
      "source": [
        "def is_positive_semi_definite(kernel_matrix):\n",
        "    # Check if the input matrix is square\n",
        "    if kernel_matrix.shape[0] != kernel_matrix.shape[1]:\n",
        "        raise ValueError(\"The input kernel matrix must be square.\")\n",
        "    \n",
        "    # Compute the eigenvalues of the kernel matrix\n",
        "    eigenvalues = np.linalg.eigvalsh(kernel_matrix)\n",
        "    \n",
        "    # Check if all eigenvalues are non-negative (within a small tolerance)\n",
        "    is_psd = np.all(eigenvalues >= -1e-8)\n",
        "    \n",
        "    return is_psd"
      ],
      "metadata": {
        "id": "4Z2WouZr5JSz"
      },
      "execution_count": 56,
      "outputs": []
    },
    {
      "cell_type": "code",
      "source": [
        "\n",
        "def gram_matrix(embedding_matrix):\n",
        "    # Compute the kernel matrix using matrix multiplication. AAT\n",
        "    kernel_matrix = np.matmul(embedding_matrix, embedding_matrix.T)\n",
        "    return kernel_matrix\n",
        "\n",
        "\n",
        "def covariance_matrix(embedding_matrix):\n",
        "    # Compute the kernel matrix using matrix multiplication. AAT\n",
        "    m, n = embedding_matrix.shape  # number of samples (m) and number of features (n)\n",
        "    mean_centered_matrix = embedding_matrix - np.mean(embedding_matrix, axis=0)  # centering the data\n",
        "    cov_matrix = np.matmul(mean_centered_matrix.T, mean_centered_matrix) / (m - 1)  # calculating covariance matrix\n",
        "\n",
        "    return cov_matrix\n",
        "\n"
      ],
      "metadata": {
        "id": "ZOfUBSZs5Ux8"
      },
      "execution_count": 57,
      "outputs": []
    },
    {
      "cell_type": "markdown",
      "source": [
        "## Gram and Cov Diagonals"
      ],
      "metadata": {
        "id": "8fYsnUIT-xa1"
      }
    },
    {
      "cell_type": "code",
      "source": [
        "gram = gram_matrix(embedding_matrix)\n",
        "print(gram)\n",
        "print(f'is Symmetric? {check_symmetry(gram)}')\n",
        "print(f'is Positive Semi Definite? {is_positive_semi_definite(gram)}')\n",
        "cov = covariance_matrix(embedding_matrix)\n",
        "print(cov )\n",
        "print(f'is Symmetric? {check_symmetry(cov)}')\n",
        "print(f'is Positive Semi Definite? {is_positive_semi_definite(cov)}')\n"
      ],
      "metadata": {
        "colab": {
          "base_uri": "https://localhost:8080/"
        },
        "id": "qTMv07RY5g6v",
        "outputId": "85d603b0-82b3-4f24-cc37-c660cb1bec4d"
      },
      "execution_count": 58,
      "outputs": [
        {
          "output_type": "stream",
          "name": "stdout",
          "text": [
            "[[ 9.4100522   9.97024925  9.45793403  7.33081966  2.43664298]\n",
            " [ 9.97024925 69.85482313 10.26042386  7.6475513   9.4062474 ]\n",
            " [ 9.45793403 10.26042386 13.70016037 15.46430788  3.84780709]\n",
            " [ 7.33081966  7.6475513  15.46430788 21.34539717  4.53217781]\n",
            " [ 2.43664298  9.4062474   3.84780709  4.53217781  1.86486849]]\n",
            "is Symmetric? True\n",
            "is Positive Semi Definite? True\n",
            "[[ 1.02154844 -0.24401727 -0.35568195]\n",
            " [-0.24401727  2.56929202 -2.39676176]\n",
            " [-0.35568195 -2.39676176 11.60880369]]\n",
            "is Symmetric? True\n",
            "is Positive Semi Definite? True\n"
          ]
        }
      ]
    },
    {
      "cell_type": "code",
      "source": [
        "lower_tri_gram = np.tril(gram)\n",
        "upper_tri_cov = np.triu(cov)\n",
        "transformed_lower = np.triu(gram) + np.triu(gram, 1).T\n",
        "transformed_upper = np.tril(cov) + np.tril(cov, -1).T\n",
        "gram_diagonal = list(np.diag(transformed_lower))\n",
        "cov_diagonal = list(np.diag(transformed_upper))"
      ],
      "metadata": {
        "id": "kytErvvO5jYW"
      },
      "execution_count": 59,
      "outputs": []
    },
    {
      "cell_type": "code",
      "source": [
        "np.diag(lower_tri_gram) == gram_diagonal"
      ],
      "metadata": {
        "colab": {
          "base_uri": "https://localhost:8080/"
        },
        "id": "pJcWSG8b6Kpp",
        "outputId": "ae110b06-c4f0-4152-a641-abc020a2e61f"
      },
      "execution_count": 60,
      "outputs": [
        {
          "output_type": "execute_result",
          "data": {
            "text/plain": [
              "array([ True,  True,  True,  True,  True])"
            ]
          },
          "metadata": {},
          "execution_count": 60
        }
      ]
    },
    {
      "cell_type": "code",
      "source": [
        "np.diag(upper_tri_cov) == cov_diagonal"
      ],
      "metadata": {
        "colab": {
          "base_uri": "https://localhost:8080/"
        },
        "id": "Myn_ttyi6Yg-",
        "outputId": "c33fa5a0-73e6-4c62-b7c7-9523d32ca466"
      },
      "execution_count": 61,
      "outputs": [
        {
          "output_type": "execute_result",
          "data": {
            "text/plain": [
              "array([ True,  True,  True])"
            ]
          },
          "metadata": {},
          "execution_count": 61
        }
      ]
    },
    {
      "cell_type": "code",
      "source": [
        "from scipy.stats import spearmanr, kendalltau"
      ],
      "metadata": {
        "id": "GTjWYu-NBQue"
      },
      "execution_count": 62,
      "outputs": []
    },
    {
      "cell_type": "code",
      "source": [
        "aligned_gram_diagonal = np.interp(np.linspace(0, 1, n), np.linspace(0, 1, m), gram_diagonal)\n",
        "\n",
        "correlation, p_value = pearsonr(aligned_gram_diagonal, cov_diagonal)\n",
        "print(\"Correlation coefficient:\", correlation)\n",
        "print(\"P-value:\", p_value)\n",
        "# Calculate Spearman correlation coefficient and p-value\n",
        "spearman_corr, spearman_pvalue = spearmanr(aligned_gram_diagonal, cov_diagonal)\n",
        "print(\"Spearman Correlation coefficient:\", spearman_corr)\n",
        "print(\"P-value:\", spearman_pvalue)\n",
        "\n",
        "# Calculate Kendall correlation coefficient and p-value\n",
        "kendall_corr, kendall_pvalue = kendalltau(aligned_gram_diagonal, cov_diagonal)\n",
        "print(\"Kendall Correlation coefficient:\", kendall_corr)\n",
        "print(\"P-value:\", kendall_pvalue)"
      ],
      "metadata": {
        "colab": {
          "base_uri": "https://localhost:8080/"
        },
        "id": "d_ygY_kb7JkT",
        "outputId": "7261df36-51b1-41a0-b9eb-a372473b8965"
      },
      "execution_count": 63,
      "outputs": [
        {
          "output_type": "stream",
          "name": "stdout",
          "text": [
            "Correlation coefficient: -0.8766837372950342\n",
            "P-value: 0.3195013774579005\n",
            "Spearman Correlation coefficient: -0.5\n",
            "P-value: 0.6666666666666667\n",
            "Kendall Correlation coefficient: -0.33333333333333337\n",
            "P-value: 1.0\n"
          ]
        }
      ]
    },
    {
      "cell_type": "code",
      "source": [
        "from scipy.interpolate import CubicSpline\n",
        "from scipy.stats import pearsonr\n",
        "m = len(gram_diagonal)\n",
        "n = len(cov_diagonal)\n",
        "\n",
        "# Create cubic spline objects\n",
        "gram_spline = CubicSpline(np.linspace(0, 1, m), gram_diagonal)\n",
        "cov_spline = CubicSpline(np.linspace(0, 1, n), cov_diagonal)\n",
        "\n",
        "# Evaluate cubic splines at desired points\n",
        "aligned_gram_diagonal = gram_spline(np.linspace(0, 1, n))\n",
        "\n",
        "correlation, p_value = pearsonr(aligned_gram_diagonal, cov_diagonal)\n",
        "print(\"Correlation coefficient:\", correlation)\n",
        "print(\"P-value:\", p_value)\n",
        "# Calculate Spearman correlation coefficient and p-value\n",
        "spearman_corr, spearman_pvalue = spearmanr(aligned_gram_diagonal, cov_diagonal)\n",
        "print(\"Spearman Correlation coefficient:\", spearman_corr)\n",
        "print(\"P-value:\", spearman_pvalue)\n",
        "\n",
        "# Calculate Kendall correlation coefficient and p-value\n",
        "kendall_corr, kendall_pvalue = kendalltau(aligned_gram_diagonal, cov_diagonal)\n",
        "print(\"Kendall Correlation coefficient:\", kendall_corr)\n",
        "print(\"P-value:\", kendall_pvalue)"
      ],
      "metadata": {
        "colab": {
          "base_uri": "https://localhost:8080/"
        },
        "id": "O0QhDwCl6eb2",
        "outputId": "67ea6b64-a29c-41d0-ebd5-d1ab47e52957"
      },
      "execution_count": 64,
      "outputs": [
        {
          "output_type": "stream",
          "name": "stdout",
          "text": [
            "Correlation coefficient: -0.8766837372950342\n",
            "P-value: 0.3195013774579005\n",
            "Spearman Correlation coefficient: -0.5\n",
            "P-value: 0.6666666666666667\n",
            "Kendall Correlation coefficient: -0.33333333333333337\n",
            "P-value: 1.0\n"
          ]
        }
      ]
    },
    {
      "cell_type": "code",
      "source": [
        "aligned_cov_diagonal = np.interp(np.linspace(0, 1, m), np.linspace(0, 1, n), cov_diagonal)\n",
        "\n",
        "\n",
        "correlation, p_value = pearsonr(gram_diagonal, aligned_cov_diagonal)\n",
        "print(\"Correlation coefficient:\", correlation)\n",
        "print(\"P-value:\", p_value)\n",
        "# Calculate Spearman correlation coefficient and p-value\n",
        "spearman_corr, spearman_pvalue = spearmanr(gram_diagonal, aligned_cov_diagonal)\n",
        "print(\"Spearman Correlation coefficient:\", spearman_corr)\n",
        "print(\"P-value:\", spearman_pvalue)\n",
        "\n",
        "# Calculate Kendall correlation coefficient and p-value\n",
        "kendall_corr, kendall_pvalue = kendalltau(gram_diagonal, aligned_cov_diagonal)\n",
        "print(\"Kendall Correlation coefficient:\", kendall_corr)\n",
        "print(\"P-value:\", kendall_pvalue)"
      ],
      "metadata": {
        "colab": {
          "base_uri": "https://localhost:8080/"
        },
        "id": "FnSOqJkC6wzh",
        "outputId": "5cbfd041-4866-48bf-9147-71dc3359adfb"
      },
      "execution_count": 65,
      "outputs": [
        {
          "output_type": "stream",
          "name": "stdout",
          "text": [
            "Correlation coefficient: -0.4483994334181218\n",
            "P-value: 0.44883484783758915\n",
            "Spearman Correlation coefficient: -0.3\n",
            "P-value: 0.6238376647810728\n",
            "Kendall Correlation coefficient: -0.19999999999999998\n",
            "P-value: 0.8166666666666667\n"
          ]
        }
      ]
    },
    {
      "cell_type": "code",
      "source": [
        "# Evaluate cubic splines at desired points\n",
        "aligned_cov_diagonal = cov_spline(np.linspace(0, 1, m))\n",
        "\n",
        "correlation, p_value = pearsonr(gram_diagonal, aligned_cov_diagonal)\n",
        "print(\"Correlation coefficient:\", correlation)\n",
        "print(\"P-value:\", p_value)\n",
        "# Calculate Spearman correlation coefficient and p-value\n",
        "spearman_corr, spearman_pvalue = spearmanr(gram_diagonal, aligned_cov_diagonal)\n",
        "print(\"Spearman Correlation coefficient:\", spearman_corr)\n",
        "print(\"P-value:\", spearman_pvalue)\n",
        "\n",
        "# Calculate Kendall correlation coefficient and p-value\n",
        "kendall_corr, kendall_pvalue = kendalltau(gram_diagonal, aligned_cov_diagonal)\n",
        "print(\"Kendall Correlation coefficient:\", kendall_corr)\n",
        "print(\"P-value:\", kendall_pvalue)"
      ],
      "metadata": {
        "colab": {
          "base_uri": "https://localhost:8080/"
        },
        "id": "yh3QLWi87Olf",
        "outputId": "ac00aa57-cdd8-42fe-bdca-2e63dd61a317"
      },
      "execution_count": 66,
      "outputs": [
        {
          "output_type": "stream",
          "name": "stdout",
          "text": [
            "Correlation coefficient: -0.5271557630167503\n",
            "P-value: 0.3613363857478348\n",
            "Spearman Correlation coefficient: -0.6\n",
            "P-value: 0.28475697986529375\n",
            "Kendall Correlation coefficient: -0.39999999999999997\n",
            "P-value: 0.48333333333333334\n"
          ]
        }
      ]
    },
    {
      "cell_type": "markdown",
      "source": [
        "## Graph laplacian Diagonals"
      ],
      "metadata": {
        "id": "jUkCL5yg8lAS"
      }
    },
    {
      "cell_type": "code",
      "source": [
        "import numpy as np\n",
        "from scipy.stats import pearsonr, spearmanr, kendalltau\n",
        "from scipy.interpolate import CubicSpline\n",
        "\n",
        "# Calculate the diagonal of the graph Laplacian for the Gram matrix\n",
        "gram_Laplacian_diag = np.sum(gram, axis=1) - np.diag(gram)\n",
        "print(\"Diagonal of the graph Laplacian of gram_matrix:\")\n",
        "print(gram_Laplacian_diag)\n",
        "\n",
        "# Calculate the diagonal of the graph Laplacian for the Covariance matrix\n",
        "cov_Laplacian_diag = np.sum(cov, axis=1) - np.diag(cov)\n",
        "print(\"Diagonal of the graph Laplacian of Cov_matrix:\")\n",
        "print(cov_Laplacian_diag)\n",
        "\n",
        "n = len(cov_Laplacian_diag)\n",
        "m = len(gram_Laplacian_diag)\n",
        "\n",
        "# Aligning Gram Laplacian diagonal to Covariance matrix size\n",
        "aligned_gram_Laplacian_diag = np.interp(np.linspace(0, 1, n), np.linspace(0, 1, m), gram_Laplacian_diag)\n",
        "\n",
        "# Calculate Pearson correlation coefficient and p-value between aligned Gram Laplacian diagonal and Covariance matrix Laplacian diagonal\n",
        "correlation, p_value = pearsonr(aligned_gram_Laplacian_diag, cov_Laplacian_diag)\n",
        "print(\"Pearson Correlation coefficient (Gram to Cov, Laplacian diagonals):\", correlation)\n",
        "print(\"P-value (Gram to Cov, Laplacian diagonals):\", p_value)\n",
        "\n",
        "# Calculate Spearman correlation coefficient and p-value between aligned Gram Laplacian diagonal and Covariance matrix Laplacian diagonal\n",
        "spearman_corr, spearman_pvalue = spearmanr(aligned_gram_Laplacian_diag, cov_Laplacian_diag)\n",
        "print(\"Spearman Correlation coefficient (Gram to Cov, Laplacian diagonals):\", spearman_corr)\n",
        "print(\"P-value (Gram to Cov, Laplacian diagonals):\", spearman_pvalue)\n",
        "\n",
        "# Calculate Kendall correlation coefficient and p-value between aligned Gram Laplacian diagonal and Covariance matrix Laplacian diagonal\n",
        "kendall_corr, kendall_pvalue = kendalltau(aligned_gram_Laplacian_diag, cov_Laplacian_diag)\n",
        "print(\"Kendall Correlation coefficient (Gram to Cov, Laplacian diagonals):\", kendall_corr)\n",
        "print(\"P-value (Gram to Cov, Laplacian diagonals):\", kendall_pvalue)\n",
        "\n",
        "# Create cubic spline objects\n",
        "gram_spline = CubicSpline(np.linspace(0, 1, m), gram_Laplacian_diag)\n",
        "cov_spline = CubicSpline(np.linspace(0, 1, n), cov_Laplacian_diag)\n",
        "\n",
        "# Evaluate cubic splines at desired points\n",
        "aligned_gram_Laplacian_diag = gram_spline(np.linspace(0, 1, n))\n",
        "\n",
        "# Calculate Pearson correlation coefficient and p-value between aligned Gram Laplacian diagonal and Covariance matrix Laplacian diagonal\n",
        "correlation, p_value = pearsonr(aligned_gram_Laplacian_diag, cov_Laplacian_diag)\n",
        "print(\"Pearson Correlation coefficient (Gram to Cov, Laplacian diagonals using cubic splines):\", correlation)\n",
        "print(\"P-value (Gram to Cov, Laplacian diagonals using cubic splines):\", p_value)\n",
        "\n",
        "# Calculate Spearman correlation coefficient and p-value between aligned Gram Laplacian diagonal and Covariance matrix Laplacian diagonal\n",
        "spearman_corr, spearman_pvalue = spearmanr(aligned_gram_Laplacian_diag, cov_Laplacian_diag)\n",
        "print(\"Spearman Correlation coefficient (Gram to Cov, Laplacian diagonals using cubic splines):\", spearman_corr)\n",
        "print(\"P-value (Gram to Cov, Laplacian diagonals using cubic splines):\", spearman_pvalue)\n",
        "\n",
        "# Calculate Kendall correlation coefficient and p-value between aligned Gram Laplacian diagonal and Covariance matrix Laplacian diagonal\n",
        "kendall_corr, kendall_pvalue = kendalltau(aligned_gram_Laplacian_diag, cov_Laplacian_diag)\n",
        "print(\"Kendall Correlation coefficient (Gram to Cov, Laplacian diagonals using cubic splines):\", kendall_corr)\n",
        "print(\"P-value (Gram to Cov, Laplacian diagonals using cubic splines):\", kendall_pvalue)\n",
        "\n",
        "# Aligning Covariance Laplacian diagonal to Gram matrix size\n",
        "aligned_cov_Laplacian_diag = np.interp(np.linspace(0, 1, m), np.linspace(0, 1, n), cov_Laplacian_diag)\n",
        "\n",
        "# Calculate Pearson correlation coefficient and p-value between Gram Laplacian diagonal and aligned Covariance matrix Laplacian diagonal\n",
        "correlation, p_value = pearsonr(gram_Laplacian_diag, aligned_cov_Laplacian_diag)\n",
        "print(\"Pearson Correlation coefficient (Cov to Gram, Laplacian diagonals):\", correlation)\n",
        "print(\"P-value (Cov to Gram, Laplacian diagonals):\", p_value)\n",
        "\n",
        "# Calculate Spearman correlation coefficient and p-value between Gram Laplacian diagonal and aligned Covariance matrix Laplacian diagonal\n",
        "spearman_corr, spearman_pvalue = spearmanr(gram_Laplacian_diag, aligned_cov_Laplacian_diag)\n",
        "print(\"Spearman Correlation coefficient (Cov to Gram, Laplacian diagonals):\", spearman_corr)\n",
        "print(\"P-value (Cov to Gram, Laplacian diagonals):\", spearman_pvalue)\n",
        "\n",
        "# Calculate Kendall correlation coefficient and p-value between Gram Laplacian diagonal and aligned Covariance matrix Laplacian diagonal\n",
        "kendall_corr, kendall_pvalue = kendalltau(gram_Laplacian_diag, aligned_cov_Laplacian_diag)\n",
        "print(\"Kendall Correlation coefficient (Cov to Gram, Laplacian diagonals):\", kendall_corr)\n",
        "print(\"P-value (Cov to Gram, Laplacian diagonals):\", kendall_pvalue)\n",
        "\n"
      ],
      "metadata": {
        "colab": {
          "base_uri": "https://localhost:8080/"
        },
        "id": "ziPiTZ6cD-lZ",
        "outputId": "37370bc4-e2c1-4550-8ad9-fe2a6e00e05a"
      },
      "execution_count": 67,
      "outputs": [
        {
          "output_type": "stream",
          "name": "stdout",
          "text": [
            "Diagonal of the graph Laplacian of gram_matrix:\n",
            "[29.19564591 37.2844718  39.03047286 34.97485664 20.22287527]\n",
            "Diagonal of the graph Laplacian of Cov_matrix:\n",
            "[-0.59969921 -2.64077903 -2.75244371]\n",
            "Pearson Correlation coefficient (Gram to Cov, Laplacian diagonals): 0.019626651606323098\n",
            "P-value (Gram to Cov, Laplacian diagonals): 0.9875044832109366\n",
            "Spearman Correlation coefficient (Gram to Cov, Laplacian diagonals): 0.5\n",
            "P-value (Gram to Cov, Laplacian diagonals): 0.6666666666666667\n",
            "Kendall Correlation coefficient (Gram to Cov, Laplacian diagonals): 0.33333333333333337\n",
            "P-value (Gram to Cov, Laplacian diagonals): 1.0\n",
            "Pearson Correlation coefficient (Gram to Cov, Laplacian diagonals using cubic splines): 0.019626651606323098\n",
            "P-value (Gram to Cov, Laplacian diagonals using cubic splines): 0.9875044832109366\n",
            "Spearman Correlation coefficient (Gram to Cov, Laplacian diagonals using cubic splines): 0.5\n",
            "P-value (Gram to Cov, Laplacian diagonals using cubic splines): 0.6666666666666667\n",
            "Kendall Correlation coefficient (Gram to Cov, Laplacian diagonals using cubic splines): 0.33333333333333337\n",
            "P-value (Gram to Cov, Laplacian diagonals using cubic splines): 1.0\n",
            "Pearson Correlation coefficient (Cov to Gram, Laplacian diagonals): 0.014204237041929357\n",
            "P-value (Cov to Gram, Laplacian diagonals): 0.981915211866478\n",
            "Spearman Correlation coefficient (Cov to Gram, Laplacian diagonals): 0.3\n",
            "P-value (Cov to Gram, Laplacian diagonals): 0.6238376647810728\n",
            "Kendall Correlation coefficient (Cov to Gram, Laplacian diagonals): 0.19999999999999998\n",
            "P-value (Cov to Gram, Laplacian diagonals): 0.8166666666666667\n"
          ]
        }
      ]
    },
    {
      "cell_type": "markdown",
      "source": [
        "## Singular Value Diagonals"
      ],
      "metadata": {
        "id": "RQO5aKyq-pTe"
      }
    },
    {
      "cell_type": "code",
      "source": [
        "import numpy as np\n",
        "from scipy.stats import pearsonr\n",
        "from scipy.interpolate import CubicSpline\n",
        "\n",
        "# Gram matrix singular value diagonal\n",
        "gram_svd_diag = np.linalg.svd(gram, compute_uv=False)\n",
        "\n",
        "# Covariance matrix singular value diagonal\n",
        "cov_svd_diag = np.linalg.svd(cov, compute_uv=False)\n",
        "\n",
        "n = len(cov_svd_diag)\n",
        "m = len(gram_svd_diag)\n",
        "\n",
        "# Aligning Gram matrix singular value diagonal to Covariance matrix size\n",
        "aligned_gram_svd_diag = np.interp(np.linspace(0, 1, n), np.linspace(0, 1, m), gram_svd_diag)\n",
        "\n",
        "# Calculating Pearson correlation coefficient and p-value between aligned Gram matrix and Covariance matrix singular value diagonals\n",
        "correlation, p_value = pearsonr(aligned_gram_svd_diag, cov_svd_diag)\n",
        "print(\"Pearson Correlation coefficient (Gram to Cov):\", correlation)\n",
        "print(\"P-value (Gram to Cov):\", p_value)\n",
        "\n",
        "# Calculating Spearman correlation coefficient and p-value between aligned Gram matrix and Covariance matrix singular value diagonals\n",
        "spearman_corr, spearman_pvalue = spearmanr(aligned_gram_svd_diag, cov_svd_diag)\n",
        "print(\"Spearman Correlation coefficient (Gram to Cov):\", spearman_corr)\n",
        "print(\"P-value (Gram to Cov):\", spearman_pvalue)\n",
        "\n",
        "# Calculating Kendall correlation coefficient and p-value between aligned Gram matrix and Covariance matrix singular value diagonals\n",
        "kendall_corr, kendall_pvalue = kendalltau(aligned_gram_svd_diag, cov_svd_diag)\n",
        "print(\"Kendall Correlation coefficient (Gram to Cov):\", kendall_corr)\n",
        "print(\"P-value (Gram to Cov):\", kendall_pvalue)\n",
        "\n",
        "# Aligning Covariance matrix singular value diagonal to Gram matrix size\n",
        "aligned_cov_svd_diag = np.interp(np.linspace(0, 1, m), np.linspace(0, 1, n), cov_svd_diag)\n",
        "\n",
        "# Calculating Pearson correlation coefficient and p-value between Covariance matrix and aligned Gram matrix singular value diagonals\n",
        "correlation, p_value = pearsonr(gram_svd_diag, aligned_cov_svd_diag)\n",
        "print(\"Pearson Correlation coefficient (Cov to Gram):\", correlation)\n",
        "print(\"P-value (Cov to Gram):\", p_value)\n",
        "\n",
        "# Calculating Spearman correlation coefficient and p-value between Covariance matrix and aligned Gram matrix singular value diagonals\n",
        "spearman_corr, spearman_pvalue = spearmanr(gram_svd_diag, aligned_cov_svd_diag)\n",
        "print(\"Spearman Correlation coefficient (Cov to Gram):\", spearman_corr)\n",
        "print(\"P-value (Cov to Gram):\", spearman_pvalue)\n",
        "\n",
        "# Calculating Kendall correlation coefficient and p-value between Covariance matrix and aligned Gram matrix singular value diagonals\n",
        "kendall_corr, kendall_pvalue = kendalltau(gram_svd_diag, aligned_cov_svd_diag)\n",
        "print(\"Kendall Correlation coefficient (Cov to Gram):\", kendall_corr)\n",
        "print(\"P-value (Cov to Gram):\", kendall_pvalue)\n",
        "\n",
        "# Create cubic spline objects\n",
        "gram_svd_diag_spline = CubicSpline(np.linspace(0, 1, m), gram_svd_diag)\n",
        "cov_svd_diag_spline = CubicSpline(np.linspace(0, 1, n), cov_svd_diag)\n",
        "\n",
        "# Evaluate cubic splines at desired points\n",
        "aligned_gram_svd_diag_spline = gram_svd_diag_spline(np.linspace(0, 1, n))\n",
        "aligned_cov_svd_diag_spline = cov_svd_diag_spline(np.linspace(0, 1, m))\n",
        "\n",
        "# Calculating Pearson correlation coefficient and p-value (using cubic spline interpolation) between aligned Gram matrix and Covariance matrix singular value diagonals\n",
        "correlation, p_value = pearsonr(aligned_gram_svd_diag_spline, cov_svd_diag)\n",
        "print(\"Pearson Correlation coefficient (using cubic spline interpolation, Gram to Cov):\", correlation)\n",
        "print(\"P-value (using cubic spline interpolation, Gram to Cov):\", p_value)\n",
        "\n",
        "# Calculating Spearman correlation coefficient and p-value (using cubic spline interpolation) between aligned Gram matrix and Covariance matrix singular value diagonals\n",
        "spearman_corr, spearman_pvalue = spearmanr(aligned_gram_svd_diag_spline, cov_svd_diag)\n",
        "print(\"Spearman Correlation coefficient (using cubic spline interpolation, Gram to Cov):\", spearman_corr)\n",
        "print(\"P-value (using cubic spline interpolation, Gram to Cov):\", spearman_pvalue)\n",
        "\n",
        "# Calculating Kendall correlation coefficient and p-value (using cubic spline interpolation) between aligned Gram matrix and Covariance matrix singular value diagonals\n",
        "kendall_corr, kendall_pvalue = kendalltau(aligned_gram_svd_diag_spline, cov_svd_diag)\n",
        "print(\"Kendall Correlation coefficient (using cubic spline interpolation, Gram to Cov):\", kendall_corr)\n",
        "print(\"P-value (using cubic spline interpolation, Gram to Cov):\", kendall_pvalue)\n",
        "\n",
        "# Calculating Pearson correlation coefficient and p-value (using cubic spline interpolation) between Covariance matrix and aligned Gram matrix singular value diagonals\n",
        "correlation, p_value = pearsonr(gram_svd_diag, aligned_cov_svd_diag_spline)\n",
        "print(\"Pearson Correlation coefficient (using cubic spline interpolation, Cov to Gram):\", correlation)\n",
        "print(\"P-value (using cubic spline interpolation, Cov to Gram):\", p_value)\n",
        "\n",
        "# Calculating Spearman correlation coefficient and p-value (using cubic spline interpolation) between Covariance matrix and aligned Gram matrix singular value diagonals\n",
        "spearman_corr, spearman_pvalue = spearmanr(gram_svd_diag, aligned_cov_svd_diag_spline)\n",
        "print(\"Spearman Correlation coefficient (using cubic spline interpolation, Cov to Gram):\", spearman_corr)\n",
        "print(\"P-value (using cubic spline interpolation, Cov to Gram):\", spearman_pvalue)\n",
        "\n",
        "# Calculating Kendall correlation coefficient and p-value (using cubic spline interpolation) between Covariance matrix and aligned Gram matrix singular value diagonals\n",
        "kendall_corr, kendall_pvalue = kendalltau(gram_svd_diag, aligned_cov_svd_diag_spline)\n",
        "print(\"Kendall Correlation coefficient (using cubic spline interpolation, Cov to Gram):\", kendall_corr)\n",
        "print(\"P-value (using cubic spline interpolation, Cov to Gram):\", kendall_pvalue)\n"
      ],
      "metadata": {
        "colab": {
          "base_uri": "https://localhost:8080/"
        },
        "id": "d-PjhtfyEmIg",
        "outputId": "ad120f99-ba55-42e0-92e5-6de6a25bdaa5"
      },
      "execution_count": 68,
      "outputs": [
        {
          "output_type": "stream",
          "name": "stdout",
          "text": [
            "Pearson Correlation coefficient (Gram to Cov): 0.9996597710163792\n",
            "P-value (Gram to Cov): 0.01660707277254271\n",
            "Spearman Correlation coefficient (Gram to Cov): 1.0\n",
            "P-value (Gram to Cov): 0.0\n",
            "Kendall Correlation coefficient (Gram to Cov): 1.0\n",
            "P-value (Gram to Cov): 0.3333333333333333\n",
            "Pearson Correlation coefficient (Cov to Gram): 0.9913288056410701\n",
            "P-value (Cov to Gram): 0.0009680249576038099\n",
            "Spearman Correlation coefficient (Cov to Gram): 0.9999999999999999\n",
            "P-value (Cov to Gram): 1.4042654220543672e-24\n",
            "Kendall Correlation coefficient (Cov to Gram): 0.9999999999999999\n",
            "P-value (Cov to Gram): 0.016666666666666666\n",
            "Pearson Correlation coefficient (using cubic spline interpolation, Gram to Cov): 0.9996597710163792\n",
            "P-value (using cubic spline interpolation, Gram to Cov): 0.01660707277254271\n",
            "Spearman Correlation coefficient (using cubic spline interpolation, Gram to Cov): 1.0\n",
            "P-value (using cubic spline interpolation, Gram to Cov): 0.0\n",
            "Kendall Correlation coefficient (using cubic spline interpolation, Gram to Cov): 1.0\n",
            "P-value (using cubic spline interpolation, Gram to Cov): 0.3333333333333333\n",
            "Pearson Correlation coefficient (using cubic spline interpolation, Cov to Gram): 0.9972422660279402\n",
            "P-value (using cubic spline interpolation, Cov to Gram): 0.00017377315228647765\n",
            "Spearman Correlation coefficient (using cubic spline interpolation, Cov to Gram): 0.8999999999999998\n",
            "P-value (using cubic spline interpolation, Cov to Gram): 0.03738607346849874\n",
            "Kendall Correlation coefficient (using cubic spline interpolation, Cov to Gram): 0.7999999999999999\n",
            "P-value (using cubic spline interpolation, Cov to Gram): 0.08333333333333333\n"
          ]
        }
      ]
    },
    {
      "cell_type": "markdown",
      "source": [
        "## Message Passing"
      ],
      "metadata": {
        "id": "HFRyhqDZFoEI"
      }
    },
    {
      "cell_type": "code",
      "source": [
        "import numpy as np\n",
        "\n",
        "def message_passing(embeddings, gram_matrix, num_iterations):\n",
        "    num_nodes = embeddings.shape[0]\n",
        "    \n",
        "    # Initialize message passed embeddings\n",
        "    message_passed_embeddings = np.copy(embeddings)\n",
        "    \n",
        "    for _ in range(num_iterations):\n",
        "        # Compute messages from neighbors\n",
        "        messages = np.matmul(gram_matrix, message_passed_embeddings)\n",
        "        \n",
        "        # Update embeddings by aggregating messages\n",
        "        message_passed_embeddings = embeddings + messages / num_nodes\n",
        "    \n",
        "    # Compute new Gram matrix\n",
        "    new_gram_matrix = np.matmul(message_passed_embeddings, message_passed_embeddings.T)\n",
        "    \n",
        "    # Compute new Covariance matrix\n",
        "    new_cov_matrix = np.cov(message_passed_embeddings.T)\n",
        "    return message_passed_embeddings, new_gram_matrix, new_cov_matrix\n",
        "message_passed_embeddings, new_gram_matrix, new_cov_matrix = message_passing(embedding_matrix, gram, 2)\n",
        "\n",
        "print(\"Original Embeddings\")\n",
        "print(embedding_matrix)\n",
        "print(\"Message Passed Embeddings:\")\n",
        "print(message_passed_embeddings)\n",
        "print(\"New Gram Matrix:\")\n",
        "print(new_gram_matrix)\n",
        "print(\"New Covariance Matrix:\")\n",
        "print(new_cov_matrix)"
      ],
      "metadata": {
        "colab": {
          "base_uri": "https://localhost:8080/"
        },
        "id": "G2xmh_e7FqRI",
        "outputId": "088467ca-3770-4d26-ac13-1a6fe37da8ad"
      },
      "execution_count": 72,
      "outputs": [
        {
          "output_type": "stream",
          "name": "stdout",
          "text": [
            "Original Embeddings\n",
            "[[2.74735851 1.19526749 0.6583381 ]\n",
            " [1.18167042 1.10928083 8.19926669]\n",
            " [1.96805548 3.08612526 0.5502262 ]\n",
            " [0.62550376 4.57208525 0.22400607]\n",
            " [0.25523266 0.90796738 0.98758292]]\n",
            "Message Passed Embeddings:\n",
            "[[ 146.11259439  223.2737056   367.31390398]\n",
            " [ 501.38603287  654.69529697 1932.15558499]\n",
            " [ 188.48285796  318.16044658  426.22054883]\n",
            " [ 190.80421318  350.86127021  381.14198316]\n",
            " [  90.88089426  136.04777261  289.32702796]]\n",
            "New Gram Matrix:\n",
            "[[ 206119.54190893  929142.67006574  255133.31500531  246215.74436496\n",
            "   149928.57373667]\n",
            " [ 929142.67006574 4413239.09045334 1126325.23433669 1061799.40243521\n",
            "   693661.08088614]\n",
            " [ 255133.31500531 1126325.23433669  318415.81375692  310044.04707182\n",
            "   183731.63542247]\n",
            " [ 246215.74436496 1061799.40243521  310044.04707182  304779.09002565\n",
            "   175349.02904828]\n",
            " [ 149928.57373667  693661.08088614  183731.63542247  175349.02904828\n",
            "   110478.462481  ]]\n",
            "New Covariance Matrix:\n",
            "[[ 25773.12354514  30985.18520953 110655.84276343]\n",
            " [ 30985.18520953  38698.01588159 128127.0520847 ]\n",
            " [110655.84276343 128127.0520847  493002.1870611 ]]\n"
          ]
        }
      ]
    },
    {
      "cell_type": "markdown",
      "source": [
        "## Graph laplacian diagonals of the Message passed embedding matrix"
      ],
      "metadata": {
        "id": "RRP9BuLpHEUk"
      }
    },
    {
      "cell_type": "code",
      "source": [
        "import numpy as np\n",
        "from scipy.stats import pearsonr, spearmanr, kendalltau\n",
        "from scipy.interpolate import CubicSpline\n",
        "\n",
        "# Calculate the diagonal of the graph Laplacian for the Gram matrix\n",
        "gram_Laplacian_diag = np.sum(new_gram_matrix, axis=1) - np.diag(new_gram_matrix)\n",
        "print(\"Diagonal of the graph Laplacian of gram_matrix:\")\n",
        "print(gram_Laplacian_diag)\n",
        "\n",
        "# Calculate the diagonal of the graph Laplacian for the Covariance matrix\n",
        "cov_Laplacian_diag = np.sum(new_cov_matrix, axis=1) - np.diag(new_cov_matrix)\n",
        "print(\"Diagonal of the graph Laplacian of Cov_matrix:\")\n",
        "print(cov_Laplacian_diag)\n",
        "\n",
        "n = len(cov_Laplacian_diag)\n",
        "m = len(gram_Laplacian_diag)\n",
        "\n",
        "# Aligning Gram Laplacian diagonal to Covariance matrix size\n",
        "aligned_gram_Laplacian_diag = np.interp(np.linspace(0, 1, n), np.linspace(0, 1, m), gram_Laplacian_diag)\n",
        "\n",
        "# Calculate Pearson correlation coefficient and p-value between aligned Gram Laplacian diagonal and Covariance matrix Laplacian diagonal\n",
        "correlation, p_value = pearsonr(aligned_gram_Laplacian_diag, cov_Laplacian_diag)\n",
        "print(\"Pearson Correlation coefficient (Gram to Cov, Laplacian diagonals):\", correlation)\n",
        "print(\"P-value (Gram to Cov, Laplacian diagonals):\", p_value)\n",
        "\n",
        "# Calculate Spearman correlation coefficient and p-value between aligned Gram Laplacian diagonal and Covariance matrix Laplacian diagonal\n",
        "spearman_corr, spearman_pvalue = spearmanr(aligned_gram_Laplacian_diag, cov_Laplacian_diag)\n",
        "print(\"Spearman Correlation coefficient (Gram to Cov, Laplacian diagonals):\", spearman_corr)\n",
        "print(\"P-value (Gram to Cov, Laplacian diagonals):\", spearman_pvalue)\n",
        "\n",
        "# Calculate Kendall correlation coefficient and p-value between aligned Gram Laplacian diagonal and Covariance matrix Laplacian diagonal\n",
        "kendall_corr, kendall_pvalue = kendalltau(aligned_gram_Laplacian_diag, cov_Laplacian_diag)\n",
        "print(\"Kendall Correlation coefficient (Gram to Cov, Laplacian diagonals):\", kendall_corr)\n",
        "print(\"P-value (Gram to Cov, Laplacian diagonals):\", kendall_pvalue)\n",
        "\n",
        "# Create cubic spline objects\n",
        "gram_spline = CubicSpline(np.linspace(0, 1, m), gram_Laplacian_diag)\n",
        "cov_spline = CubicSpline(np.linspace(0, 1, n), cov_Laplacian_diag)\n",
        "\n",
        "# Evaluate cubic splines at desired points\n",
        "aligned_gram_Laplacian_diag = gram_spline(np.linspace(0, 1, n))\n",
        "\n",
        "# Calculate Pearson correlation coefficient and p-value between aligned Gram Laplacian diagonal and Covariance matrix Laplacian diagonal\n",
        "correlation, p_value = pearsonr(aligned_gram_Laplacian_diag, cov_Laplacian_diag)\n",
        "print(\"Pearson Correlation coefficient (Gram to Cov, Laplacian diagonals using cubic splines):\", correlation)\n",
        "print(\"P-value (Gram to Cov, Laplacian diagonals using cubic splines):\", p_value)\n",
        "\n",
        "# Calculate Spearman correlation coefficient and p-value between aligned Gram Laplacian diagonal and Covariance matrix Laplacian diagonal\n",
        "spearman_corr, spearman_pvalue = spearmanr(aligned_gram_Laplacian_diag, cov_Laplacian_diag)\n",
        "print(\"Spearman Correlation coefficient (Gram to Cov, Laplacian diagonals using cubic splines):\", spearman_corr)\n",
        "print(\"P-value (Gram to Cov, Laplacian diagonals using cubic splines):\", spearman_pvalue)\n",
        "\n",
        "# Calculate Kendall correlation coefficient and p-value between aligned Gram Laplacian diagonal and Covariance matrix Laplacian diagonal\n",
        "kendall_corr, kendall_pvalue = kendalltau(aligned_gram_Laplacian_diag, cov_Laplacian_diag)\n",
        "print(\"Kendall Correlation coefficient (Gram to Cov, Laplacian diagonals using cubic splines):\", kendall_corr)\n",
        "print(\"P-value (Gram to Cov, Laplacian diagonals using cubic splines):\", kendall_pvalue)\n",
        "\n",
        "# Aligning Covariance Laplacian diagonal to Gram matrix size\n",
        "aligned_cov_Laplacian_diag = np.interp(np.linspace(0, 1, m), np.linspace(0, 1, n), cov_Laplacian_diag)\n",
        "\n",
        "# Calculate Pearson correlation coefficient and p-value between Gram Laplacian diagonal and aligned Covariance matrix Laplacian diagonal\n",
        "correlation, p_value = pearsonr(gram_Laplacian_diag, aligned_cov_Laplacian_diag)\n",
        "print(\"Pearson Correlation coefficient (Cov to Gram, Laplacian diagonals):\", correlation)\n",
        "print(\"P-value (Cov to Gram, Laplacian diagonals):\", p_value)\n",
        "\n",
        "# Calculate Spearman correlation coefficient and p-value between Gram Laplacian diagonal and aligned Covariance matrix Laplacian diagonal\n",
        "spearman_corr, spearman_pvalue = spearmanr(gram_Laplacian_diag, aligned_cov_Laplacian_diag)\n",
        "print(\"Spearman Correlation coefficient (Cov to Gram, Laplacian diagonals):\", spearman_corr)\n",
        "print(\"P-value (Cov to Gram, Laplacian diagonals):\", spearman_pvalue)\n",
        "\n",
        "# Calculate Kendall correlation coefficient and p-value between Gram Laplacian diagonal and aligned Covariance matrix Laplacian diagonal\n",
        "kendall_corr, kendall_pvalue = kendalltau(gram_Laplacian_diag, aligned_cov_Laplacian_diag)\n",
        "print(\"Kendall Correlation coefficient (Cov to Gram, Laplacian diagonals):\", kendall_corr)\n",
        "print(\"P-value (Cov to Gram, Laplacian diagonals):\", kendall_pvalue)\n",
        "\n"
      ],
      "metadata": {
        "colab": {
          "base_uri": "https://localhost:8080/"
        },
        "id": "gYAgyRwHF1oJ",
        "outputId": "6861317a-63e8-4c19-9ee6-881505746f3d"
      },
      "execution_count": 73,
      "outputs": [
        {
          "output_type": "stream",
          "name": "stdout",
          "text": [
            "Diagonal of the graph Laplacian of gram_matrix:\n",
            "[1580420.30317267 3810928.38772378 1875234.2318363  1793408.22292026\n",
            " 1202670.31909356]\n",
            "Diagonal of the graph Laplacian of Cov_matrix:\n",
            "[141641.02797297 159112.23729423 238782.89484813]\n",
            "Pearson Correlation coefficient (Gram to Cov, Laplacian diagonals): -0.812697880284875\n",
            "P-value (Gram to Cov, Laplacian diagonals): 0.39599594021986334\n",
            "Spearman Correlation coefficient (Gram to Cov, Laplacian diagonals): -0.5\n",
            "P-value (Gram to Cov, Laplacian diagonals): 0.6666666666666667\n",
            "Kendall Correlation coefficient (Gram to Cov, Laplacian diagonals): -0.33333333333333337\n",
            "P-value (Gram to Cov, Laplacian diagonals): 1.0\n",
            "Pearson Correlation coefficient (Gram to Cov, Laplacian diagonals using cubic splines): -0.812697880284875\n",
            "P-value (Gram to Cov, Laplacian diagonals using cubic splines): 0.39599594021986334\n",
            "Spearman Correlation coefficient (Gram to Cov, Laplacian diagonals using cubic splines): -0.5\n",
            "P-value (Gram to Cov, Laplacian diagonals using cubic splines): 0.6666666666666667\n",
            "Kendall Correlation coefficient (Gram to Cov, Laplacian diagonals using cubic splines): -0.33333333333333337\n",
            "P-value (Gram to Cov, Laplacian diagonals using cubic splines): 1.0\n",
            "Pearson Correlation coefficient (Cov to Gram, Laplacian diagonals): -0.5163383903023903\n",
            "P-value (Cov to Gram, Laplacian diagonals): 0.37308611797230024\n",
            "Spearman Correlation coefficient (Cov to Gram, Laplacian diagonals): -0.39999999999999997\n",
            "P-value (Cov to Gram, Laplacian diagonals): 0.5046315754686911\n",
            "Kendall Correlation coefficient (Cov to Gram, Laplacian diagonals): -0.39999999999999997\n",
            "P-value (Cov to Gram, Laplacian diagonals): 0.48333333333333334\n"
          ]
        }
      ]
    },
    {
      "cell_type": "markdown",
      "source": [
        "## Singular value diagonals of the Message passed embedding matrix"
      ],
      "metadata": {
        "id": "AUNfcOSqHLP2"
      }
    },
    {
      "cell_type": "code",
      "source": [
        "import numpy as np\n",
        "from scipy.stats import pearsonr\n",
        "from scipy.interpolate import CubicSpline\n",
        "\n",
        "# Gram matrix singular value diagonal\n",
        "gram_svd_diag = np.linalg.svd(new_gram_matrix, compute_uv=False)\n",
        "\n",
        "# Covariance matrix singular value diagonal\n",
        "cov_svd_diag = np.linalg.svd(new_cov_matrix, compute_uv=False)\n",
        "\n",
        "n = len(cov_svd_diag)\n",
        "m = len(gram_svd_diag)\n",
        "\n",
        "# Aligning Gram matrix singular value diagonal to Covariance matrix size\n",
        "aligned_gram_svd_diag = np.interp(np.linspace(0, 1, n), np.linspace(0, 1, m), gram_svd_diag)\n",
        "\n",
        "# Calculating Pearson correlation coefficient and p-value between aligned Gram matrix and Covariance matrix singular value diagonals\n",
        "correlation, p_value = pearsonr(aligned_gram_svd_diag, cov_svd_diag)\n",
        "print(\"Pearson Correlation coefficient (Gram to Cov):\", correlation)\n",
        "print(\"P-value (Gram to Cov):\", p_value)\n",
        "\n",
        "# Calculating Spearman correlation coefficient and p-value between aligned Gram matrix and Covariance matrix singular value diagonals\n",
        "spearman_corr, spearman_pvalue = spearmanr(aligned_gram_svd_diag, cov_svd_diag)\n",
        "print(\"Spearman Correlation coefficient (Gram to Cov):\", spearman_corr)\n",
        "print(\"P-value (Gram to Cov):\", spearman_pvalue)\n",
        "\n",
        "# Calculating Kendall correlation coefficient and p-value between aligned Gram matrix and Covariance matrix singular value diagonals\n",
        "kendall_corr, kendall_pvalue = kendalltau(aligned_gram_svd_diag, cov_svd_diag)\n",
        "print(\"Kendall Correlation coefficient (Gram to Cov):\", kendall_corr)\n",
        "print(\"P-value (Gram to Cov):\", kendall_pvalue)\n",
        "\n",
        "# Aligning Covariance matrix singular value diagonal to Gram matrix size\n",
        "aligned_cov_svd_diag = np.interp(np.linspace(0, 1, m), np.linspace(0, 1, n), cov_svd_diag)\n",
        "\n",
        "# Calculating Pearson correlation coefficient and p-value between Covariance matrix and aligned Gram matrix singular value diagonals\n",
        "correlation, p_value = pearsonr(gram_svd_diag, aligned_cov_svd_diag)\n",
        "print(\"Pearson Correlation coefficient (Cov to Gram):\", correlation)\n",
        "print(\"P-value (Cov to Gram):\", p_value)\n",
        "\n",
        "# Calculating Spearman correlation coefficient and p-value between Covariance matrix and aligned Gram matrix singular value diagonals\n",
        "spearman_corr, spearman_pvalue = spearmanr(gram_svd_diag, aligned_cov_svd_diag)\n",
        "print(\"Spearman Correlation coefficient (Cov to Gram):\", spearman_corr)\n",
        "print(\"P-value (Cov to Gram):\", spearman_pvalue)\n",
        "\n",
        "# Calculating Kendall correlation coefficient and p-value between Covariance matrix and aligned Gram matrix singular value diagonals\n",
        "kendall_corr, kendall_pvalue = kendalltau(gram_svd_diag, aligned_cov_svd_diag)\n",
        "print(\"Kendall Correlation coefficient (Cov to Gram):\", kendall_corr)\n",
        "print(\"P-value (Cov to Gram):\", kendall_pvalue)\n",
        "\n",
        "# Create cubic spline objects\n",
        "gram_svd_diag_spline = CubicSpline(np.linspace(0, 1, m), gram_svd_diag)\n",
        "cov_svd_diag_spline = CubicSpline(np.linspace(0, 1, n), cov_svd_diag)\n",
        "\n",
        "# Evaluate cubic splines at desired points\n",
        "aligned_gram_svd_diag_spline = gram_svd_diag_spline(np.linspace(0, 1, n))\n",
        "aligned_cov_svd_diag_spline = cov_svd_diag_spline(np.linspace(0, 1, m))\n",
        "\n",
        "# Calculating Pearson correlation coefficient and p-value (using cubic spline interpolation) between aligned Gram matrix and Covariance matrix singular value diagonals\n",
        "correlation, p_value = pearsonr(aligned_gram_svd_diag_spline, cov_svd_diag)\n",
        "print(\"Pearson Correlation coefficient (using cubic spline interpolation, Gram to Cov):\", correlation)\n",
        "print(\"P-value (using cubic spline interpolation, Gram to Cov):\", p_value)\n",
        "\n",
        "# Calculating Spearman correlation coefficient and p-value (using cubic spline interpolation) between aligned Gram matrix and Covariance matrix singular value diagonals\n",
        "spearman_corr, spearman_pvalue = spearmanr(aligned_gram_svd_diag_spline, cov_svd_diag)\n",
        "print(\"Spearman Correlation coefficient (using cubic spline interpolation, Gram to Cov):\", spearman_corr)\n",
        "print(\"P-value (using cubic spline interpolation, Gram to Cov):\", spearman_pvalue)\n",
        "\n",
        "# Calculating Kendall correlation coefficient and p-value (using cubic spline interpolation) between aligned Gram matrix and Covariance matrix singular value diagonals\n",
        "kendall_corr, kendall_pvalue = kendalltau(aligned_gram_svd_diag_spline, cov_svd_diag)\n",
        "print(\"Kendall Correlation coefficient (using cubic spline interpolation, Gram to Cov):\", kendall_corr)\n",
        "print(\"P-value (using cubic spline interpolation, Gram to Cov):\", kendall_pvalue)\n",
        "\n",
        "# Calculating Pearson correlation coefficient and p-value (using cubic spline interpolation) between Covariance matrix and aligned Gram matrix singular value diagonals\n",
        "correlation, p_value = pearsonr(gram_svd_diag, aligned_cov_svd_diag_spline)\n",
        "print(\"Pearson Correlation coefficient (using cubic spline interpolation, Cov to Gram):\", correlation)\n",
        "print(\"P-value (using cubic spline interpolation, Cov to Gram):\", p_value)\n",
        "\n",
        "# Calculating Spearman correlation coefficient and p-value (using cubic spline interpolation) between Covariance matrix and aligned Gram matrix singular value diagonals\n",
        "spearman_corr, spearman_pvalue = spearmanr(gram_svd_diag, aligned_cov_svd_diag_spline)\n",
        "print(\"Spearman Correlation coefficient (using cubic spline interpolation, Cov to Gram):\", spearman_corr)\n",
        "print(\"P-value (using cubic spline interpolation, Cov to Gram):\", spearman_pvalue)\n",
        "\n",
        "# Calculating Kendall correlation coefficient and p-value (using cubic spline interpolation) between Covariance matrix and aligned Gram matrix singular value diagonals\n",
        "kendall_corr, kendall_pvalue = kendalltau(gram_svd_diag, aligned_cov_svd_diag_spline)\n",
        "print(\"Kendall Correlation coefficient (using cubic spline interpolation, Cov to Gram):\", kendall_corr)\n",
        "print(\"P-value (using cubic spline interpolation, Cov to Gram):\", kendall_pvalue)\n"
      ],
      "metadata": {
        "colab": {
          "base_uri": "https://localhost:8080/"
        },
        "id": "uvJla5B1G_vh",
        "outputId": "10ebc6cc-df59-4446-c875-9c2d7c79dfc5"
      },
      "execution_count": 74,
      "outputs": [
        {
          "output_type": "stream",
          "name": "stdout",
          "text": [
            "Pearson Correlation coefficient (Gram to Cov): 0.9999596961584085\n",
            "P-value (Gram to Cov): 0.005715704937585869\n",
            "Spearman Correlation coefficient (Gram to Cov): 1.0\n",
            "P-value (Gram to Cov): 0.0\n",
            "Kendall Correlation coefficient (Gram to Cov): 1.0\n",
            "P-value (Gram to Cov): 0.3333333333333333\n",
            "Pearson Correlation coefficient (Cov to Gram): 0.8807073434866745\n",
            "P-value (Cov to Gram): 0.04856535031550231\n",
            "Spearman Correlation coefficient (Cov to Gram): 0.9999999999999999\n",
            "P-value (Cov to Gram): 1.4042654220543672e-24\n",
            "Kendall Correlation coefficient (Cov to Gram): 0.9999999999999999\n",
            "P-value (Cov to Gram): 0.016666666666666666\n",
            "Pearson Correlation coefficient (using cubic spline interpolation, Gram to Cov): 0.9999596961584085\n",
            "P-value (using cubic spline interpolation, Gram to Cov): 0.005715704937585869\n",
            "Spearman Correlation coefficient (using cubic spline interpolation, Gram to Cov): 1.0\n",
            "P-value (using cubic spline interpolation, Gram to Cov): 0.0\n",
            "Kendall Correlation coefficient (using cubic spline interpolation, Gram to Cov): 1.0\n",
            "P-value (using cubic spline interpolation, Gram to Cov): 0.3333333333333333\n",
            "Pearson Correlation coefficient (using cubic spline interpolation, Cov to Gram): 0.917080607642534\n",
            "P-value (using cubic spline interpolation, Cov to Gram): 0.028303573407853926\n",
            "Spearman Correlation coefficient (using cubic spline interpolation, Cov to Gram): 0.8999999999999998\n",
            "P-value (using cubic spline interpolation, Cov to Gram): 0.03738607346849874\n",
            "Kendall Correlation coefficient (using cubic spline interpolation, Cov to Gram): 0.7999999999999999\n",
            "P-value (using cubic spline interpolation, Cov to Gram): 0.08333333333333333\n"
          ]
        }
      ]
    },
    {
      "cell_type": "code",
      "source": [],
      "metadata": {
        "id": "GxlPsXjJHaKt"
      },
      "execution_count": null,
      "outputs": []
    }
  ]
}