{
  "nbformat": 4,
  "nbformat_minor": 0,
  "metadata": {
    "colab": {
      "provenance": [],
      "authorship_tag": "ABX9TyOvWlcSGwdsDt57Gz+Nt0+b",
      "include_colab_link": true
    },
    "kernelspec": {
      "name": "python3",
      "display_name": "Python 3"
    },
    "language_info": {
      "name": "python"
    }
  },
  "cells": [
    {
      "cell_type": "markdown",
      "metadata": {
        "id": "view-in-github",
        "colab_type": "text"
      },
      "source": [
        "<a href=\"https://colab.research.google.com/github/danielpatrickhug/kernel-trick/blob/main/kernel_trick.ipynb\" target=\"_parent\"><img src=\"https://colab.research.google.com/assets/colab-badge.svg\" alt=\"Open In Colab\"/></a>"
      ]
    },
    {
      "cell_type": "markdown",
      "source": [
        "# Kernel Trick"
      ],
      "metadata": {
        "id": "jYxNeBE94Z8d"
      }
    },
    {
      "cell_type": "markdown",
      "source": [
        "1/Down the rabbit hole of the kernel trick. Let's start with something simple to help build intuition. 🧵\n",
        "\n",
        "if you know it already this will most likely not be too interesting, but it's always good to brush up on the basics!"
      ],
      "metadata": {
        "id": "vIjQKXRE1MmK"
      }
    },
    {
      "cell_type": "markdown",
      "source": [
        "2/ First, we instantiate an \"embedding\" matrix of vectors of size (m, n) sampled from the normal distribution. For each pair of vectors (i, j), we compute the dot product between the two and store it in the adjacency matrix. Notice the symmetry between points (i, j) and (j, i)."
      ],
      "metadata": {
        "id": "r7bxCY3u1QPb"
      }
    },
    {
      "cell_type": "code",
      "source": [
        "# Usage\n",
        "m = 5\n",
        "n = 3\n",
        "embedding_matrix = np.random.normal(size=(m, n))"
      ],
      "metadata": {
        "id": "g0GsxuKO1TCW"
      },
      "execution_count": null,
      "outputs": []
    },
    {
      "cell_type": "code",
      "execution_count": null,
      "metadata": {
        "colab": {
          "base_uri": "https://localhost:8080/"
        },
        "id": "Ev-GV2skNnfc",
        "outputId": "d1c26362-63e9-4ba4-d018-5849f7461491"
      },
      "outputs": [
        {
          "output_type": "stream",
          "name": "stdout",
          "text": [
            "[[ 2.45088359  1.33443298 -0.20212026 -0.55920389  0.14594067]\n",
            " [ 1.33443298  2.80218324 -1.3660105  -0.7500674   1.11279092]\n",
            " [-0.20212026 -1.3660105   0.87636899  0.37914582 -0.73933572]\n",
            " [-0.55920389 -0.7500674   0.37914582  0.26355865 -0.32000421]\n",
            " [ 0.14594067  1.11279092 -0.73933572 -0.32000421  0.62752336]]\n"
          ]
        }
      ],
      "source": [
        "import numpy as np\n",
        "\n",
        "def kernel_function1(embedding_matrix):\n",
        "    # Initialize embedding matrix of random vectors sampled from the normal distribution\n",
        "    # Create an empty matrix for the kernel\n",
        "    m = embedding_matrix.shape[0]\n",
        "    kernel_matrix = np.zeros((m, m))\n",
        "\n",
        "    # Calculate kernel matrix using 2 for loops\n",
        "    for i in range(m):\n",
        "        for j in range(m):\n",
        "            # Here we use dot product as a simple kernel function\n",
        "            kernel_matrix[i, j] = np.dot(embedding_matrix[i], embedding_matrix[j])\n",
        "    \n",
        "    return kernel_matrix\n",
        "\n",
        "A = kernel_function1(embedding_matrix)\n",
        "print(A)\n"
      ]
    },
    {
      "cell_type": "markdown",
      "source": [
        "Lets check two things. \n",
        "1. The symmetry of pariwise distances between all matching pairs of (i,j) and (j,i) \n",
        "2. Confirm the kernel matrix is positive semi definite"
      ],
      "metadata": {
        "id": "jChkzkCk5ilg"
      }
    },
    {
      "cell_type": "code",
      "source": [
        "def check_symmetry(kernel_matrix):\n",
        "    # Check if the input matrix is square\n",
        "    if kernel_matrix.shape[0] != kernel_matrix.shape[1]:\n",
        "        raise ValueError(\"The input kernel matrix must be square.\")\n",
        "\n",
        "    # Check if the difference between the matrix and its transpose is close to zero\n",
        "    is_symmetric = np.allclose(kernel_matrix, kernel_matrix.T, atol=1e-8)\n",
        "\n",
        "    return is_symmetric\n",
        "\n",
        "check_symmetry(A)"
      ],
      "metadata": {
        "colab": {
          "base_uri": "https://localhost:8080/"
        },
        "id": "ql872J9Z4-ut",
        "outputId": "16d9e492-2942-4839-cbb1-0c4b299afbb8"
      },
      "execution_count": null,
      "outputs": [
        {
          "output_type": "execute_result",
          "data": {
            "text/plain": [
              "True"
            ]
          },
          "metadata": {},
          "execution_count": 38
        }
      ]
    },
    {
      "cell_type": "code",
      "source": [
        "def is_positive_semi_definite(kernel_matrix):\n",
        "    # Check if the input matrix is square\n",
        "    if kernel_matrix.shape[0] != kernel_matrix.shape[1]:\n",
        "        raise ValueError(\"The input kernel matrix must be square.\")\n",
        "    \n",
        "    # Compute the eigenvalues of the kernel matrix\n",
        "    eigenvalues = np.linalg.eigvalsh(kernel_matrix)\n",
        "    \n",
        "    # Check if all eigenvalues are non-negative (within a small tolerance)\n",
        "    is_psd = np.all(eigenvalues >= -1e-8)\n",
        "    \n",
        "    return is_psd\n",
        "\n",
        "is_positive_semi_definite(A)"
      ],
      "metadata": {
        "colab": {
          "base_uri": "https://localhost:8080/"
        },
        "id": "jzhrp0hR5eRC",
        "outputId": "f6913485-284c-41d2-ed3b-50a2a56ceae2"
      },
      "execution_count": null,
      "outputs": [
        {
          "output_type": "execute_result",
          "data": {
            "text/plain": [
              "True"
            ]
          },
          "metadata": {},
          "execution_count": 39
        }
      ]
    },
    {
      "cell_type": "markdown",
      "source": [
        "Lets also plot the heat map of the kernel matrix"
      ],
      "metadata": {
        "id": "2ukCDQf46t4D"
      }
    },
    {
      "cell_type": "code",
      "source": [
        "import numpy as np\n",
        "import matplotlib.pyplot as plt\n",
        "import seaborn as sns\n",
        "\n",
        "def plot_kernel_matrix_heatmap(kernel_matrix):\n",
        "    # Check if the input matrix is square\n",
        "    if kernel_matrix.shape[0] != kernel_matrix.shape[1]:\n",
        "        raise ValueError(\"The input kernel matrix must be square.\")\n",
        "    \n",
        "    # Create a heatmap using seaborn\n",
        "    plt.figure(figsize=(5, 5))\n",
        "    sns.heatmap(kernel_matrix, annot=True, cmap='coolwarm', square=True, cbar_kws={'shrink': 0.8})\n",
        "    plt.title(\"Kernel Matrix Heatmap\")\n",
        "    plt.show()\n",
        "\n",
        "plot_kernel_matrix_heatmap(A)"
      ],
      "metadata": {
        "colab": {
          "base_uri": "https://localhost:8080/",
          "height": 393
        },
        "id": "LdTDPgZF6tlo",
        "outputId": "1bb909be-0115-4e4f-bf77-5c5d3af5471e"
      },
      "execution_count": null,
      "outputs": [
        {
          "output_type": "display_data",
          "data": {
            "text/plain": [
              "<Figure size 500x500 with 2 Axes>"
            ],
            "image/png": "[encoded data removed]"
          },
          "metadata": {}
        }
      ]
    },
    {
      "cell_type": "markdown",
      "source": [
        "3/ Now, let's calculate the cosine similarity between the vectors, which is a measure of similarity between two non-zero vectors based on the cosine of the angle between them. The cosine similarity ranges from -1 (completely dissimilar) to 1 (completely similar)."
      ],
      "metadata": {
        "id": "IiwNjdKx1utr"
      }
    },
    {
      "cell_type": "code",
      "source": [
        "\n",
        "def kernel_function2(embedding_matrix):\n",
        "    # Get the number of vectors in the embedding matrix\n",
        "    m = embedding_matrix.shape[0]\n",
        "\n",
        "    # Create an empty matrix for the kernel\n",
        "    kernel_matrix = np.zeros((m, m))\n",
        "\n",
        "    # Calculate kernel matrix using 2 for loops\n",
        "    for i in range(m):\n",
        "        for j in range(m):\n",
        "            # Compute cosine similarity\n",
        "            dot_product = np.dot(embedding_matrix[i], embedding_matrix[j])\n",
        "            magnitude_i = np.linalg.norm(embedding_matrix[i])\n",
        "            magnitude_j = np.linalg.norm(embedding_matrix[j])\n",
        "            cosine_similarity = dot_product / (magnitude_i * magnitude_j)\n",
        "            \n",
        "            # Store the cosine similarity in the kernel matrix\n",
        "            kernel_matrix[i, j] = cosine_similarity\n",
        "    \n",
        "    return kernel_matrix\n",
        "\n",
        "A_2 = kernel_function2(embedding_matrix)\n",
        "print(A_2)\n"
      ],
      "metadata": {
        "colab": {
          "base_uri": "https://localhost:8080/"
        },
        "id": "Qn__33DkNqDj",
        "outputId": "85b90a95-3173-4a87-e8c8-b1f320c68af2"
      },
      "execution_count": null,
      "outputs": [
        {
          "output_type": "stream",
          "name": "stdout",
          "text": [
            "[[ 1.          0.50919855 -0.13791293 -0.69577722  0.11767929]\n",
            " [ 0.50919855  1.         -0.87169042 -0.87279729  0.83917079]\n",
            " [-0.13791293 -0.87169042  1.          0.78890397 -0.99697263]\n",
            " [-0.69577722 -0.87279729  0.78890397  1.         -0.7868684 ]\n",
            " [ 0.11767929  0.83917079 -0.99697263 -0.7868684   1.        ]]\n"
          ]
        }
      ]
    },
    {
      "cell_type": "code",
      "source": [
        "print(f'is Symmetric? {check_symmetry(A_2)}')\n",
        "print(f'is Positive Semi Definite? {is_positive_semi_definite(A_2)}')\n",
        "plot_kernel_matrix_heatmap(A_2)"
      ],
      "metadata": {
        "colab": {
          "base_uri": "https://localhost:8080/",
          "height": 429
        },
        "id": "HhnwirTw7OOk",
        "outputId": "14de768f-9077-411a-a7cc-cf42e201e202"
      },
      "execution_count": null,
      "outputs": [
        {
          "output_type": "stream",
          "name": "stdout",
          "text": [
            "is Symmetric? True\n",
            "is Positive Semi Definite? True\n"
          ]
        },
        {
          "output_type": "display_data",
          "data": {
            "text/plain": [
              "<Figure size 500x500 with 2 Axes>"
            ],
            "image/png": "[encoded data removed]"
          },
          "metadata": {}
        }
      ]
    },
    {
      "cell_type": "markdown",
      "source": [
        "4/ Next, let's explore another kernel function - the Radial Basis Function (RBF) Kernel, also known as the Gaussian kernel. This kernel function measures the similarity between data points in a transformed space."
      ],
      "metadata": {
        "id": "q2vE_eb61xnw"
      }
    },
    {
      "cell_type": "code",
      "source": [
        "\n",
        "def kernel_function3(embedding_matrix, gamma =0.1):\n",
        "    # Get the number of vectors in the embedding matrix\n",
        "    m = embedding_matrix.shape[0]\n",
        "\n",
        "    # Create an empty matrix for the kernel\n",
        "    kernel_matrix = np.zeros((m, m))\n",
        "\n",
        "    # Calculate kernel matrix using 2 for loops\n",
        "    for i in range(m):\n",
        "        for j in range(m):\n",
        "            # Compute squared Euclidean distance\n",
        "            squared_distance = np.sum((embedding_matrix[i] - embedding_matrix[j]) ** 2)\n",
        "            \n",
        "            # Compute RBF kernel\n",
        "            kernel_matrix[i, j] = np.exp(-gamma * squared_distance)\n",
        "    \n",
        "    return kernel_matrix\n",
        "    \n",
        "A_3 =kernel_function3(embedding_matrix)\n",
        "print(A_3)\n"
      ],
      "metadata": {
        "colab": {
          "base_uri": "https://localhost:8080/"
        },
        "id": "4HcZntRcNwu7",
        "outputId": "311a7414-dc86-47e6-bab8-8ef714dc7c48"
      },
      "execution_count": null,
      "outputs": [
        {
          "output_type": "stream",
          "name": "stdout",
          "text": [
            "[[1.         0.77227074 0.68856242 0.68161861 0.7568028 ]\n",
            " [0.77227074 1.         0.5267352  0.63344147 0.88655468]\n",
            " [0.68856242 0.5267352  1.         0.96255545 0.74211105]\n",
            " [0.68161861 0.63344147 0.96255545 1.         0.85803615]\n",
            " [0.7568028  0.88655468 0.74211105 0.85803615 1.        ]]\n"
          ]
        }
      ]
    },
    {
      "cell_type": "code",
      "source": [
        "print(f'is Symmetric? {check_symmetry(A_3)}')\n",
        "print(f'is Positive Semi Definite? {is_positive_semi_definite(A_3)}')\n",
        "plot_kernel_matrix_heatmap(A_3)"
      ],
      "metadata": {
        "colab": {
          "base_uri": "https://localhost:8080/",
          "height": 429
        },
        "id": "eHO8F5WT8KfM",
        "outputId": "d421f133-df36-45b2-8547-228ef55f1b51"
      },
      "execution_count": null,
      "outputs": [
        {
          "output_type": "stream",
          "name": "stdout",
          "text": [
            "is Symmetric? True\n",
            "is Positive Semi Definite? True\n"
          ]
        },
        {
          "output_type": "display_data",
          "data": {
            "text/plain": [
              "<Figure size 500x500 with 2 Axes>"
            ],
            "image/png": "[encoded data removed]"
          },
          "metadata": {}
        }
      ]
    },
    {
      "cell_type": "markdown",
      "source": [
        "5a/ 💡 The \"kernel trick\" is a powerful technique in kernel methods that enables them to operate in a high-dimensional, implicit feature space without ever computing the coordinates of the data in that space. "
      ],
      "metadata": {
        "id": "kt3hjUoI11qL"
      }
    },
    {
      "cell_type": "markdown",
      "source": [
        "5b/ Instead, kernel functions are used to compute the inner products (dot products) between the transformed representations of all pairs of data points in the feature space, which is often more computationally efficient than the explicit computation of the coordinates. \n"
      ],
      "metadata": {
        "id": "TnGrNVlQ151o"
      }
    },
    {
      "cell_type": "markdown",
      "source": [
        "5c/ This approach allows kernel methods to work with various types of data, such as sequence data, graphs, text, images, and vectors. Let's see how this works in practice for the linear kernel, cosine kernel, and Gaussian RBF kernel."
      ],
      "metadata": {
        "id": "3F5e89Lw1-d3"
      }
    },
    {
      "cell_type": "markdown",
      "source": [
        "6/ let's speed things up with the kernel trick applied to the linear kernel. We're replacing the for loops with a matrix multiplication operation. Notice how you get the same adjacency matrix as with the first kernel function. \n",
        "\n",
        "This is also known as the Gram matrix."
      ],
      "metadata": {
        "id": "-8qbWlSz2omi"
      }
    },
    {
      "cell_type": "code",
      "source": [
        "\n",
        "def linear_kernel_function(embedding_matrix):\n",
        "    # Compute the kernel matrix using matrix multiplication. AAT\n",
        "    kernel_matrix = np.matmul(embedding_matrix, embedding_matrix.T)\n",
        "    return kernel_matrix\n",
        "\n",
        "print(linear_kernel_function(embedding_matrix))\n"
      ],
      "metadata": {
        "colab": {
          "base_uri": "https://localhost:8080/"
        },
        "id": "t313gqixPvqV",
        "outputId": "614ed13b-e654-40ec-d240-e0098137c5d2"
      },
      "execution_count": null,
      "outputs": [
        {
          "output_type": "stream",
          "name": "stdout",
          "text": [
            "[[ 2.45088359  1.33443298 -0.20212026 -0.55920389  0.14594067]\n",
            " [ 1.33443298  2.80218324 -1.3660105  -0.7500674   1.11279092]\n",
            " [-0.20212026 -1.3660105   0.87636899  0.37914582 -0.73933572]\n",
            " [-0.55920389 -0.7500674   0.37914582  0.26355865 -0.32000421]\n",
            " [ 0.14594067  1.11279092 -0.73933572 -0.32000421  0.62752336]]\n"
          ]
        }
      ]
    },
    {
      "cell_type": "code",
      "source": [
        "\"\"\"\n",
        "from the first computation.\n",
        "[[ 2.45088359  1.33443298 -0.20212026 -0.55920389  0.14594067]\n",
        " [ 1.33443298  2.80218324 -1.3660105  -0.7500674   1.11279092]\n",
        " [-0.20212026 -1.3660105   0.87636899  0.37914582 -0.73933572]\n",
        " [-0.55920389 -0.7500674   0.37914582  0.26355865 -0.32000421]\n",
        " [ 0.14594067  1.11279092 -0.73933572 -0.32000421  0.62752336]]\n",
        "\"\"\""
      ],
      "metadata": {
        "id": "GmnHa0_l3OA0"
      },
      "execution_count": null,
      "outputs": []
    },
    {
      "cell_type": "markdown",
      "source": [
        "7a/ 📐 Cosine similarity is a metric that measures the similarity between two vectors in an inner product space. It calculates the cosine of the angle between the two vectors, which ranges from -1 (completely dissimilar) to 1 (completely similar), with 0 indicating orthogonality"
      ],
      "metadata": {
        "id": "Ho72nzIL23Vu"
      }
    },
    {
      "cell_type": "code",
      "source": [
        "\n",
        "def cosine_kernel_function(embedding_matrix):\n",
        "    # Normalize each row (vector) in the matrix\n",
        "    normed_matrix = embedding_matrix / np.linalg.norm(embedding_matrix, axis=1, keepdims=True)\n",
        "    \n",
        "    # Compute the kernel matrix using matrix multiplication\n",
        "    kernel_matrix = np.matmul(normed_matrix, normed_matrix.T)\n",
        "    \n",
        "    return kernel_matrix\n",
        "\n",
        "print(cosine_kernel_function(embedding_matrix))"
      ],
      "metadata": {
        "colab": {
          "base_uri": "https://localhost:8080/"
        },
        "id": "hJuH4t0bQA2a",
        "outputId": "dacafd71-9117-4f32-e5b2-c1a9172eb4e9"
      },
      "execution_count": null,
      "outputs": [
        {
          "output_type": "stream",
          "name": "stdout",
          "text": [
            "[[ 1.          0.50919855 -0.13791293 -0.69577722  0.11767929]\n",
            " [ 0.50919855  1.         -0.87169042 -0.87279729  0.83917079]\n",
            " [-0.13791293 -0.87169042  1.          0.78890397 -0.99697263]\n",
            " [-0.69577722 -0.87279729  0.78890397  1.         -0.7868684 ]\n",
            " [ 0.11767929  0.83917079 -0.99697263 -0.7868684   1.        ]]\n"
          ]
        }
      ]
    },
    {
      "cell_type": "markdown",
      "source": [
        "7b/ This makes cosine similarity well-suited for applications where the direction of the vectors is more important than their magnitudes, such as text analysis, document clustering, and collaborative filtering."
      ],
      "metadata": {
        "id": "uTajyrsd26lu"
      }
    },
    {
      "cell_type": "markdown",
      "source": [
        "8/ And finally, let's apply the kernel trick to the Gaussian RBF kernel. Once again, we get the same adjacency matrix as with the original kernel function. Voila! 🎉"
      ],
      "metadata": {
        "id": "bjp58NwL2_f4"
      }
    },
    {
      "cell_type": "code",
      "source": [
        "\n",
        "def rbf_kernel_function(embedding_matrix, gamma):\n",
        "    # Compute squared Euclidean distance matrix\n",
        "    squared_norms = np.sum(embedding_matrix**2, axis=1)\n",
        "    squared_distances = -2 * np.dot(embedding_matrix, embedding_matrix.T) + squared_norms[:, np.newaxis] + squared_norms[np.newaxis, :]\n",
        "\n",
        "    # Compute RBF kernel matrix\n",
        "    kernel_matrix = np.exp(-gamma * squared_distances)\n",
        "\n",
        "    return kernel_matrix\n",
        "\n",
        "gamma = 0.1\n",
        "print(rbf_kernel_function(embedding_matrix, gamma))\n"
      ],
      "metadata": {
        "colab": {
          "base_uri": "https://localhost:8080/"
        },
        "id": "MdRKnSecOzYT",
        "outputId": "4d29aa08-cf7c-4e4f-9eb6-e8c6836be673"
      },
      "execution_count": null,
      "outputs": [
        {
          "output_type": "stream",
          "name": "stdout",
          "text": [
            "[[1.         0.77227074 0.68856242 0.68161861 0.7568028 ]\n",
            " [0.77227074 1.         0.5267352  0.63344147 0.88655468]\n",
            " [0.68856242 0.5267352  1.         0.96255545 0.74211105]\n",
            " [0.68161861 0.63344147 0.96255545 1.         0.85803615]\n",
            " [0.7568028  0.88655468 0.74211105 0.85803615 1.        ]]\n"
          ]
        }
      ]
    },
    {
      "cell_type": "code",
      "source": [
        "def rbf_kernel_function_division(embedding_matrix, gamma):\n",
        "    # Compute squared Euclidean distance matrix\n",
        "    squared_norms = np.sum(embedding_matrix**2, axis=1)\n",
        "    squared_distances = -2 * np.dot(embedding_matrix, embedding_matrix.T) + squared_norms[:, np.newaxis] + squared_norms[np.newaxis, :]\n",
        "\n",
        "    # Compute RBF kernel matrix with division\n",
        "    kernel_matrix = np.exp(-squared_distances / (2 * gamma**2))\n",
        "\n",
        "    return kernel_matrix\n",
        "\n",
        "gamma = 0.8\n",
        "print(rbf_kernel_function_division(embedding_matrix, gamma))\n"
      ],
      "metadata": {
        "id": "7HBUUy5gd3a_"
      },
      "execution_count": null,
      "outputs": []
    },
    {
      "cell_type": "markdown",
      "source": [
        "9/  In conclusion, the kernel trick is a powerful technique that enables us to efficiently compute kernel functions without explicitly transforming the data points. This thread introduced the basic concept for three different kernels. \n"
      ],
      "metadata": {
        "id": "TOwigdqr3a_Q"
      }
    },
    {
      "cell_type": "markdown",
      "source": [
        "10(bonus)/  Algorithms capable of operating with kernels include the kernel perceptron, support-vector machines (SVM), Gaussian processes, principal components analysis (PCA), canonical correlation analysis, ridge regression, and spectral clustering. \n",
        "And here is the Wikipedia page on the kernel method\n",
        "https://en.wikipedia.org/wiki/Kernel_method\n",
        "Now that we have kernels out of the way next time we can start looking at more complicated algorithms like graph laplacian, SVM, and Kernel ridge regression. \n"
      ],
      "metadata": {
        "id": "NeWjWlsl3b-6"
      }
    },
    {
      "cell_type": "markdown",
      "source": [
        "Kernel machines are slow to compute for datasets larger than a couple of thousand examples without parallel processing. So its good to first partition your data into sub spaces\n",
        "\n"
      ],
      "metadata": {
        "id": "Gb6-6mmq3y0-"
      }
    }
  ]
}